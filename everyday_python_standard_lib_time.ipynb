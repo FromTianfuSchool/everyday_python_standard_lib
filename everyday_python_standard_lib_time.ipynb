{
 "cells": [
  {
   "cell_type": "markdown",
   "metadata": {},
   "source": [
    "### time 模块\n",
    "time 模块提供了一些处理日期和一天内时间的函数. 它是建立在 C 运行时库的简单封装。  \n",
    "localtime 和 gmtime 返回的类元组包括年, 月, 日, 时, 分, 秒, 星期, 一年的第几天, 日光标志. 其中年是一个四位数(在有千年虫问题的平台上另有规\n",
    "定, 但还是四位数), 星期从星期一(数字 0 代表)开始, 1 月 1 日是一年的第一天  \n",
    "\n",
    "1.在Python中，通常有这几种方式来表示时间：1）时间戳 2）格式化的时间字符串 3）元组（struct_time）共九个元素。由于Python的time模块实现主要调用C库，所以各个平台可能有所不同。  \n",
    "2.UTC（Coordinated Universal Time，世界协调时）亦即格林威治天文时间，世界标准时间。在中国为UTC+8。DST（Daylight Saving Time）即夏令时。  \n",
    "3.时间戳（timestamp）的方式：通常来说，时间戳表示的是从1970年1月1日00:00:00开始按秒计算的偏移量。我们运行“type(time.time())”，返回的是float类型。返回时间戳方式的函数主要有time()，clock()等。   \n",
    "4.元组（struct_time）方式：struct_time元组共有9个元素，返回struct_time的函数主要有gmtime()，localtime()，strptime()，下面为元组中的元素：  "
   ]
  },
  {
   "cell_type": "markdown",
   "metadata": {},
   "source": [
    "|属性（Attribute） |值（Values）\n",
    "|------------|--------|\n",
    "|tm_year（年） |比如2011\n",
    "|tm_mon（月） |1 - 12\n",
    "|tm_mday（日） |1 - 31\n",
    "|tm_hour（时） |0 - 23\n",
    "|tm_min（分） |0 - 59\n",
    "|tm_sec（秒） |0 - 61\n",
    "|tm_wday（weekday） |0 - 6（0表示周日）\n",
    "|tm_yday（一年中的第几天） |1 - 366\n",
    "|tm_isdst（是否是夏令时） 默认为-1"
   ]
  },
  {
   "cell_type": "markdown",
   "metadata": {},
   "source": [
    "|函数        |功能                  |\n",
    "|------------|----------------------|\n",
    "|time()      |--返回当前时间戳，浮点数形式。不接受参数\n",
    "|clock()     |-- 返回当前程序的cpu执行时间。unix系统始终返回全部运行时间；而windows从第二次开始都是以第一次调用此函数时的时间戳作为基准，而不是程序开始时间为基准。不接受参数。\n",
    "|sleep()     |-- 延迟一个时间段，接受整型、浮点型。\n",
    "|gmtime()    |-- 将时间戳转换为UTC时间元组格式。接受一个浮点型时间戳参数，其默认值为当前时间戳。\n",
    "|localtime() |-- 将时间戳转换为本地时间元组格式。接受一个浮点型时间戳参数，其默认值为当前时间戳。\n",
    "| asctime()  |-- 将时间元组格式转换为字符串形式。接受一个时间元组，其默认值为localtime()返回值\n",
    "|ctime()     |-- 将时间戳转换为字符串。接受一个时间戳，其默认值为当前时间戳。等价于asctime(localtime(seconds))\n",
    "|mktime()    |-- 将本地时间元组转换为时间戳。接受一个时间元组，必选。\n",
    "|strftime()  |-- 将时间元组以指定的格式转换为字符串形式。接受字符串格式化串、时间元组。时间元组为可选，默认为localtime()\n",
    "|strptime()  |-- 将指定格式的时间字符串解析为时间元组，strftime()的逆向过程。接受字符串，时间格式2个参数，都是必选。\n",
    "|tzset()     |-- 改变本地时区。unix"
   ]
  },
  {
   "cell_type": "code",
   "execution_count": 1,
   "metadata": {
    "collapsed": true
   },
   "outputs": [],
   "source": [
    "import time"
   ]
  },
  {
   "cell_type": "code",
   "execution_count": 2,
   "metadata": {
    "collapsed": false
   },
   "outputs": [
    {
     "data": {
      "text/plain": [
       "time.struct_time(tm_year=2017, tm_mon=4, tm_mday=6, tm_hour=5, tm_min=36, tm_sec=28, tm_wday=3, tm_yday=96, tm_isdst=0)"
      ]
     },
     "execution_count": 2,
     "metadata": {},
     "output_type": "execute_result"
    }
   ],
   "source": [
    "time.gmtime() #gmtime([c])方法是将一个时间戳转换为UTC时区（0时区）的struct_time。gmtime(0)返回epoch，即计算机时间纪元1970"
   ]
  },
  {
   "cell_type": "code",
   "execution_count": 3,
   "metadata": {
    "collapsed": false
   },
   "outputs": [
    {
     "data": {
      "text/plain": [
       "time.struct_time(tm_year=2017, tm_mon=4, tm_mday=6, tm_hour=13, tm_min=40, tm_sec=33, tm_wday=3, tm_yday=96, tm_isdst=0)"
      ]
     },
     "execution_count": 3,
     "metadata": {},
     "output_type": "execute_result"
    }
   ],
   "source": [
    "time.localtime() #localtime([c]),将一个时间戳转换为当前时区的struct_time"
   ]
  },
  {
   "cell_type": "code",
   "execution_count": 4,
   "metadata": {
    "collapsed": false
   },
   "outputs": [
    {
     "data": {
      "text/plain": [
       "1491457295.981"
      ]
     },
     "execution_count": 4,
     "metadata": {},
     "output_type": "execute_result"
    }
   ],
   "source": [
    "time.time()  #返回当前时间戳"
   ]
  },
  {
   "cell_type": "markdown",
   "metadata": {},
   "source": [
    "time.mktime(c)：将一个struct_time转化为时间戳"
   ]
  },
  {
   "cell_type": "code",
   "execution_count": 5,
   "metadata": {
    "collapsed": false
   },
   "outputs": [
    {
     "data": {
      "text/plain": [
       "1491457347.0"
      ]
     },
     "execution_count": 5,
     "metadata": {},
     "output_type": "execute_result"
    }
   ],
   "source": [
    "time.mktime(time.localtime())"
   ]
  },
  {
   "cell_type": "markdown",
   "metadata": {},
   "source": [
    "time.sleep(secs)：线程推迟指定的时间运行。单位为秒。"
   ]
  },
  {
   "cell_type": "markdown",
   "metadata": {},
   "source": [
    "time.clock()：这个需要注意，在不同的系统上含义不同。   \n",
    "   1.在UNIX系统上，它返回的是“进程时间”，它是用秒表示的浮点数（时间戳）。  \n",
    "   2.在WINDOWS中，第一次调用，返回的是进程运行的实际时间。而第二次之后的调用是自第一次调用以后到现在的运行时间。"
   ]
  },
  {
   "cell_type": "markdown",
   "metadata": {},
   "source": [
    "### 使用标准的格式化字符串把时间对象转换为字符串"
   ]
  },
  {
   "cell_type": "markdown",
   "metadata": {},
   "source": [
    "**time.asctime([t])**,把一个表示时间的元组或者struct_time表示为字符串形式：'Sun Jun 20 23:21:05 1993'。  \n",
    "如果没有参数，将会将time.localtime()作为参数传入"
   ]
  },
  {
   "cell_type": "code",
   "execution_count": 7,
   "metadata": {
    "collapsed": false
   },
   "outputs": [
    {
     "data": {
      "text/plain": [
       "'Thu Jan 01 00:00:00 1970'"
      ]
     },
     "execution_count": 7,
     "metadata": {},
     "output_type": "execute_result"
    }
   ],
   "source": [
    "time.asctime(time.gmtime(0))"
   ]
  },
  {
   "cell_type": "markdown",
   "metadata": {},
   "source": [
    "**time.ctime([secs])**把一个时间戳（按秒计算的浮点数）转化为time.asctime()的形式。  \n",
    "如果参数未给或者为None的时候，将会默认time.time()为参数。它的作用相当于time.asctime(time.localtime(secs))"
   ]
  },
  {
   "cell_type": "code",
   "execution_count": 8,
   "metadata": {
    "collapsed": false
   },
   "outputs": [
    {
     "data": {
      "text/plain": [
       "'Thu Apr 06 13:41:35 2017'"
      ]
     },
     "execution_count": 8,
     "metadata": {},
     "output_type": "execute_result"
    }
   ],
   "source": [
    "time.ctime(1491457295.981)"
   ]
  },
  {
   "cell_type": "markdown",
   "metadata": {},
   "source": [
    "**time.strftime(format[, t])**：把一个代表时间的元组或者struct_time（如由time.localtime()和time.gmtime()返回）转化为格式化的时间字符串。如果t未指定，将传入time.localtime()。如果元组中任何一个元素越界，ValueError的错误将会被抛出"
   ]
  },
  {
   "cell_type": "markdown",
   "metadata": {},
   "source": [
    "|格式 |含义 |备注|\n",
    "|---|-------|\n",
    "|%a |本地（locale）简化星期名称 \n",
    "|%A |本地完整星期名称 \n",
    "|%b |本地简化月份名称 \n",
    "|%B |本地完整月份名称 \n",
    "|%c |本地相应的日期和时间表示 \n",
    "|%d |一个月中的第几天（01 - 31） \n",
    "|%H |一天中的第几个小时（24小时制，00 - 23） \n",
    "|%I |第几个小时（12小时制，01 - 12） \n",
    "|%j |一年中的第几天（001 - 366） \n",
    "|%m |月份（01 - 12） \n",
    "|%M |分钟数（00 - 59） \n",
    "|%p |本地am或者pm的相应符 |一\n",
    "|%S |秒（01 - 61） |二\n",
    "|%U |一年中的星期数。（00 - 53星期天是一个星期的开始。）第一个星期天之前的所有天数都放在第0周。 |三\n",
    "|%w |一个星期中的第几天（0 - 6，0是星期天） |三\n",
    "|%W |和%U基本相同，不同的是%W以星期一为一个星期的开始。 |\n",
    "|%x |本地相应日期 |\n",
    "|%X |本地相应时间 \n",
    "|%y |去掉世纪的年份（00 - 99） \n",
    "|%Y |完整的年份 \n",
    "|%Z |时区的名字（如果不存在为空字符） \n",
    "|%% |‘%'字符 "
   ]
  },
  {
   "cell_type": "code",
   "execution_count": 11,
   "metadata": {
    "collapsed": false
   },
   "outputs": [
    {
     "data": {
      "text/plain": [
       "'2017-04-06 13:59:12'"
      ]
     },
     "execution_count": 11,
     "metadata": {},
     "output_type": "execute_result"
    }
   ],
   "source": [
    "time.strftime(\"%Y-%m-%d %X\", time.localtime())"
   ]
  },
  {
   "cell_type": "code",
   "execution_count": 17,
   "metadata": {
    "collapsed": false
   },
   "outputs": [
    {
     "data": {
      "text/plain": [
       "'06/04/2017  14:05:57'"
      ]
     },
     "execution_count": 17,
     "metadata": {},
     "output_type": "execute_result"
    }
   ],
   "source": [
    "time.strftime(\"%d/%m/%Y  %X\", time.localtime())"
   ]
  },
  {
   "cell_type": "code",
   "execution_count": 20,
   "metadata": {
    "collapsed": false
   },
   "outputs": [
    {
     "name": "stdout",
     "output_type": "stream",
     "text": [
      "Thursday April 2017 一年中的第096 天\n"
     ]
    }
   ],
   "source": [
    "print time.strftime(\"%A %B %Y 一年中的第 %j 天\", time.localtime())   #若不用print，不能正常显示gbk码"
   ]
  },
  {
   "cell_type": "markdown",
   "metadata": {},
   "source": [
    "**time.strptime(string[, format])**：把一个格式化时间字符串转化为struct_time。实际上它和strftime()是逆操作。   \n",
    "在这个函数中，format默认为：\"%a %b %d %H:%M:%S %Y\""
   ]
  },
  {
   "cell_type": "code",
   "execution_count": 22,
   "metadata": {
    "collapsed": false
   },
   "outputs": [
    {
     "data": {
      "text/plain": [
       "time.struct_time(tm_year=2017, tm_mon=4, tm_mday=6, tm_hour=14, tm_min=12, tm_sec=0, tm_wday=3, tm_yday=96, tm_isdst=-1)"
      ]
     },
     "execution_count": 22,
     "metadata": {},
     "output_type": "execute_result"
    }
   ],
   "source": [
    " time.strptime('2017-04-06 14:12', '%Y-%m-%d %H:%M')"
   ]
  },
  {
   "cell_type": "markdown",
   "metadata": {},
   "source": [
    "### 时间戳和时间结构之间的转化图示\n",
    "<img src=\"http://files.jb51.net/file_images/article/201404/2014424120618129.jpg?201432412651\" width = \"400\" height = \"300\" alt=\"时间结构关系\" align=center />\n"
   ]
  }
 ],
 "metadata": {
  "kernelspec": {
   "display_name": "Python 2",
   "language": "python",
   "name": "python2"
  },
  "language_info": {
   "codemirror_mode": {
    "name": "ipython",
    "version": 2
   },
   "file_extension": ".py",
   "mimetype": "text/x-python",
   "name": "python",
   "nbconvert_exporter": "python",
   "pygments_lexer": "ipython2",
   "version": "2.7.13"
  }
 },
 "nbformat": 4,
 "nbformat_minor": 2
}
