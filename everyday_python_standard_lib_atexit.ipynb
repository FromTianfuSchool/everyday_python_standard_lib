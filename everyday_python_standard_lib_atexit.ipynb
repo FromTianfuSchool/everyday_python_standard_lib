{
 "cells": [
  {
   "cell_type": "markdown",
   "metadata": {},
   "source": [
    "### atexit 模块\n",
    "atexit 模块允许你注册一个或多个**终止函数**(暂且这么叫), 这些函数将在解释器终止前被自动调用"
   ]
  },
  {
   "cell_type": "markdown",
   "metadata": {},
   "source": [
    "1.调用 register 函数, 便可以将函数注册为终止函数, 如下所示.你也可以添加更多的参数, 这些将作为 exit 函数的参数传递  \n",
    "2.如果注册多个终止函数A，B和C，在解释器终止时，它们将以C，B，A的顺序运行  \n",
    "3.这是sys.exitfunc()变量提供的功能的另一个接口"
   ]
  },
  {
   "cell_type": "code",
   "execution_count": 3,
   "metadata": {
    "collapsed": false
   },
   "outputs": [
    {
     "data": {
      "text/plain": [
       "<function __main__.exit>"
      ]
     },
     "execution_count": 3,
     "metadata": {},
     "output_type": "execute_result"
    }
   ],
   "source": [
    "import atexit\n",
    "def exit(*args):\n",
    "    print 'exit', args\n",
    "\n",
    "atexit.register(exit)\n",
    "atexit.register(exit, 1)\n",
    "atexit.register(exit, \"hello\", \"world\")   #这段代码在nb没能显示正确内容，在pycahrm和书上内容一致"
   ]
  },
  {
   "cell_type": "markdown",
   "metadata": {},
   "source": [
    "exit ('hello', 'world')  \n",
    "exit (1,)                 pycharm运行结果   \n",
    "exit ()  "
   ]
  },
  {
   "cell_type": "code",
   "execution_count": 4,
   "metadata": {
    "collapsed": false
   },
   "outputs": [
    {
     "data": {
      "text/plain": [
       "<function __main__.w_text>"
      ]
     },
     "execution_count": 4,
     "metadata": {},
     "output_type": "execute_result"
    }
   ],
   "source": [
    "import atexit\n",
    "def w_text():\n",
    "    \"\"\"\n",
    "    打印乘法表\n",
    "    \"\"\"\n",
    "    with open('ChengFatable.txt','wb') as fb:\n",
    "        for i in range(1,10):\n",
    "            for j in range(i+1):\n",
    "                fb.write('{} * {} ={:2d}   '.format(i,j,i*j)) #设定宽度\n",
    "            fb.write('\\n')\n",
    "atexit.register(w_text)"
   ]
  },
  {
   "cell_type": "code",
   "execution_count": 5,
   "metadata": {
    "collapsed": true
   },
   "outputs": [],
   "source": [
    "import atexit\n",
    "\n",
    "@atexit.register      #这种清理方式不允许带参数\n",
    "def goodbye():\n",
    "    print \"You are now leaving the Python sector.\""
   ]
  }
 ],
 "metadata": {
  "kernelspec": {
   "display_name": "Python 2",
   "language": "python",
   "name": "python2"
  },
  "language_info": {
   "codemirror_mode": {
    "name": "ipython",
    "version": 2
   },
   "file_extension": ".py",
   "mimetype": "text/x-python",
   "name": "python",
   "nbconvert_exporter": "python",
   "pygments_lexer": "ipython2",
   "version": "2.7.13"
  }
 },
 "nbformat": 4,
 "nbformat_minor": 2
}
