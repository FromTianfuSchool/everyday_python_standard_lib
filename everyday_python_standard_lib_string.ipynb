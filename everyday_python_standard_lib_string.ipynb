{
 "cells": [
  {
   "cell_type": "markdown",
   "metadata": {},
   "source": [
    "### string模块\n",
    "用于处理字符"
   ]
  },
  {
   "cell_type": "code",
   "execution_count": 1,
   "metadata": {
    "collapsed": false
   },
   "outputs": [
    {
     "name": "stdout",
     "output_type": "stream",
     "text": [
      "lower --> monty python's flying circus\n",
      "upper --> MONTY PYTHON'S FLYING CIRCUS\n",
      "split --> ['Monty', \"Python's\", 'Flying', 'Circus']\n",
      "join --> Monty | Python's | Flying | Circus\n",
      "count --> 3\n",
      "find --> 6\n",
      "find --> -1\n",
      "repalce --> Monty Java's Flying Circus\n"
     ]
    }
   ],
   "source": [
    "import string\n",
    "\n",
    "text = \"Monty Python's Flying Circus\"\n",
    "\n",
    "print 'lower', '-->', string.lower(text)\n",
    "print 'upper', '-->', string.upper(text)\n",
    "print 'split', '-->', string.split(text)\n",
    "print 'join' , '-->', string.join(string.split(text),' | ')\n",
    "print 'count', '-->', string.count(text,'n')     #统计 字符出现 次数\n",
    "print 'find', '-->', string.find(text,'Python')  #空格不计入\n",
    "print 'find', '-->', string.find(text,'Java')   #不存在返回-1\n",
    "print 'repalce', '-->', string.replace(text,'Python','Java')\n"
   ]
  },
  {
   "cell_type": "markdown",
   "metadata": {},
   "source": [
    "#### int('s',base) 将字符串数字，转换为base进制，float类似\n",
    "###### string.atoi('s',base),string.atof('s',base)同上，这是1.6版本前的用法"
   ]
  },
  {
   "cell_type": "markdown",
   "metadata": {},
   "source": [
    "whitespace -- a string containing all characters considered whitespace"
   ]
  },
  {
   "cell_type": "code",
   "execution_count": 2,
   "metadata": {
    "collapsed": false
   },
   "outputs": [
    {
     "name": "stdout",
     "output_type": "stream",
     "text": [
      "\t\n",
      "\u000b",
      "\f",
      "\r",
      "  tab,return....\n",
      "abcdefghijklmnopqrstuvwxyz\n",
      "ABCDEFGHIJKLMNOPQRSTUVWXYZ\n",
      "abcdefghijklmnopqrstuvwxyzABCDEFGHIJKLMNOPQRSTUVWXYZ\n",
      "0123456789\n",
      "0123456789abcdefABCDEF\n",
      "01234567\n",
      "!\"#$%&'()*+,-./:;<=>?@[\\]^_`{|}~\n",
      "0123456789abcdefghijklmnopqrstuvwxyzABCDEFGHIJKLMNOPQRSTUVWXYZ!\"#$%&'()*+,-./:;<=>?@[\\]^_`{|}~ \t\n",
      "\r",
      "\u000b",
      "\f",
      "\n"
     ]
    }
   ],
   "source": [
    "print string.whitespace,'tab,return....'    #空格字符包含tab.换行符等\n",
    "print string.lowercase    #小写字母                   string.ascii_lowercase不依赖本地，不会被改变\n",
    "print string.uppercase     #大写字母                   string.ascii_uppercase   同上\n",
    "print string.letters       #所有字母包括大小写   string.ascii_letters  同上\n",
    "print string.digits        #十进制数字\n",
    "print string.hexdigits    #16进制数字，字符\n",
    "print string.octdigits    #8进制数字\n",
    "print string.punctuation   #标点符号\n",
    "print string.printable   #所有可打印字符"
   ]
  },
  {
   "cell_type": "markdown",
   "metadata": {},
   "source": [
    "s为原字符串,start,end可指定方法作用索引范围，maxsplit最大分割次数   \n",
    "**不建议方法**\n",
    "\n",
    "|方法                       |作用                                    |\n",
    "|:--------------            |-------------------------               |\n",
    "|capitalize(s)              |字符串首个字符大写                      |\n",
    "|find(s,sub[,start[,end]])  |返回找到字符的最小指引，查找失败返回-1  |\n",
    "|rfind(s,sub[,start[,end]]) |同find,但返回最高指引                   |\n",
    "|index(s,sub[,start[,end]]) |同find,但失败返回ValueError             |\n",
    "|rindex(s,sub[,start[,end]])|同rfind，但失败返回ValueError           |\n",
    "|**count(s,sub[,start[,end]]**) |统计sub出现的次数                       |\n",
    "|split(s[,sep[,maxsplit]])  |分离字符中的单词，返回一个列表          |\n",
    "|rsplit(s[,sep[,maxsplit]]) |从字符串尾部分离字符中的单词            |\n",
    "|**strip(s,[,char])**           |删除首尾空白符，若指定char，则删除char  | \n",
    "|lstrip(s,[,char])          |删除前段空白符                          | \n",
    "|rstrip(s,[,char])          |删除尾部空白符                          |\n",
    "|swapcase(s)               |翻转字母大小写                          |\n",
    "|translate(s,table[,chars]) |根据table翻译s,若table为None,删除chars  |\n",
    "|ljust(s, width[,fillchar]) |字符置左，不足宽度指定char填充，默认空白 |\n",
    "|rjust(s, width[,fillchar]) |字符置右|\n",
    "|center(s, width[,fillchar])|字符置中|\n",
    "|zfill(s, width)            |字符串左边用 0 填充至指定宽度|\n",
    "|replace(s,old,new[,maxreplace])|替换，最大替换次数|\n",
    "|expandtabs(s[,tabsize])||"
   ]
  },
  {
   "cell_type": "markdown",
   "metadata": {},
   "source": [
    "### 字符串方法"
   ]
  },
  {
   "cell_type": "markdown",
   "metadata": {},
   "source": [
    "#### 1.string.capwords(s[, sep])\n",
    "用split,capitalize,join将字符串单词首字母大写，sep为None或者不选，空格符都用一个空格代替，并且删除首位空白符。否则用sep分离或者连接字符串"
   ]
  },
  {
   "cell_type": "code",
   "execution_count": 3,
   "metadata": {
    "collapsed": false
   },
   "outputs": [
    {
     "name": "stdout",
     "output_type": "stream",
     "text": [
      "Hello ,how Are You Today?\n",
      " hello  ,How are you today?   \n"
     ]
    }
   ],
   "source": [
    "print string.capwords(' hello  ,how are you today?   ')  # 按空格切分\n",
    "print string.capwords(' hello  ,how are you today?   ',',')"
   ]
  },
  {
   "cell_type": "markdown",
   "metadata": {},
   "source": [
    "#### 2.string.maketrans(from, to)\n",
    "返回适合于转换为translate()的table转换表，将from中每个字符映射到to中同一位置的字符；   \n",
    "from,to必须有相同长度！   \n",
    "再利用translate可以实现  **密码转译！！**  "
   ]
  },
  {
   "cell_type": "code",
   "execution_count": 4,
   "metadata": {
    "collapsed": false
   },
   "outputs": [
    {
     "name": "stdout",
     "output_type": "stream",
     "text": [
      "TODAY I WILL GO TO THE LAB\n"
     ]
    }
   ],
   "source": [
    "from_s = 'today i will go to the lab'\n",
    "to = 'TODAY I WILL GO TO THE LAB'\n",
    "print string.translate(to,string.maketrans(from_s,to))"
   ]
  },
  {
   "cell_type": "markdown",
   "metadata": {},
   "source": [
    "### 格式化字符串之 format"
   ]
  }
 ],
 "metadata": {
  "kernelspec": {
   "display_name": "Python 2",
   "language": "python",
   "name": "python2"
  },
  "language_info": {
   "codemirror_mode": {
    "name": "ipython",
    "version": 2
   },
   "file_extension": ".py",
   "mimetype": "text/x-python",
   "name": "python",
   "nbconvert_exporter": "python",
   "pygments_lexer": "ipython2",
   "version": "2.7.13"
  }
 },
 "nbformat": 4,
 "nbformat_minor": 2
}
