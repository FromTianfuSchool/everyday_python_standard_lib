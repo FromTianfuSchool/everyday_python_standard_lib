{
 "cells": [
  {
   "cell_type": "markdown",
   "metadata": {},
   "source": [
    "### sys模块\n",
    "sys 模块提供了许多函数和变量来处理 Python 运行时环境的不同部分"
   ]
  },
  {
   "cell_type": "code",
   "execution_count": 1,
   "metadata": {
    "collapsed": true
   },
   "outputs": [],
   "source": [
    "import sys"
   ]
  },
  {
   "cell_type": "markdown",
   "metadata": {},
   "source": [
    "|方法  |功能  |\n",
    "|-------|------|\n",
    "|sys.argv           |命令行参数List，第一个元素是程序本身路径\n",
    "|sys.modules.keys() |返回所有已经导入的模块列表\n",
    "|sys.exc_info()     |获取当前正在处理的异常类,exc_type、exc_value、exc_traceback当前处理的异常详细信息\n",
    "|sys.exit(n)       | 退出程序，正常退出时exit(0)\n",
    "|sys.hexversion     |获取Python解释程序的版本值，16进制格式如：0x020403F0\n",
    "|sys.version        |获取Python解释程序的版本信息\n",
    "|sys.maxint         |最大的Int值\n",
    "|sys.maxunicode     |最大的Unicode值\n",
    "|sys.modules        |返回系统导入的模块字段，key是模块名，value是模块\n",
    "|sys.path           |返回模块的搜索路径，初始化时使用PYTHONPATH环境变量的值\n",
    "|sys.platform       |返回操作系统平台名称\n",
    "|sys.stdout         |标准输出\n",
    "|sys.stdin          |标准输入\n",
    "|sys.stderr         |错误输出\n",
    "|sys.exc_clear()    |用来清除当前线程所出现的当前的或最近的错误信息\n",
    "|sys.exec_prefix    |返回平台独立的python文件安装的位置\n",
    "|sys.byteorder      |本地字节规则的指示器，big-endian平台的值是'big',little-endian平台的值是'little'\n",
    "|sys.copyright      |记录python版权相关的东西\n",
    "|sys.api_version    |解释器的C的API版本\n",
    "|sys.version_info\n",
    "\n",
    "\n",
    "\n",
    "sys.version_info 返回如下       \n",
    "(2, 4, 3, 'final', 0) 'final'表示最终,也有'candidate'表示候选，表示版本级别，是否有后继的发行    \n",
    "sys.displayhook(value)      如果value非空，这个函数会把他输出到sys.stdout，并且将他保存进__builtin__._.指在python的交互式解释器里，'_'代表上次你输入得到的结果，hook是钩子的意思，将上次的结果钩过来  \n",
    "\n",
    "sys.getdefaultencoding()    返回当前你所用的默认的字符编码格式   \n",
    "sys.getfilesystemencoding() 返回将Unicode文件名转换成系统文件名的编码的名字    \n",
    "sys.setdefaultencoding(name)用来设置当前默认的字符编码，如果name和任何一个可用的编码都不匹配，抛出LookupError，这个函数只会被site模块的sitecustomize使用，一旦别site模块使用了，他会从sys模块移除   \n",
    "sys.builtin_module_names    Python解释器导入的模块列表   \n",
    "sys.executable              Python解释程序路径   \n",
    "sys.getwindowsversion()     获取Windows的版本   \n",
    "sys.stdin.readline()        从标准输入读一行，sys.stdout.write(\"a\") 屏幕输出a    "
   ]
  },
  {
   "cell_type": "markdown",
   "metadata": {},
   "source": [
    "#### 使用sys模块查找内建模块"
   ]
  },
  {
   "cell_type": "code",
   "execution_count": 2,
   "metadata": {
    "collapsed": false
   },
   "outputs": [
    {
     "name": "stdout",
     "output_type": "stream",
     "text": [
      "os --> E:\\anaconda_install\\lib\\os.pyc\n",
      "sys --> <BUILT_IN>\n",
      "string --> E:\\anaconda_install\\lib\\string.pyc\n"
     ]
    }
   ],
   "source": [
    "def dump(module):\n",
    "    print module, '-->',\n",
    "    if module in sys.builtin_module_names:\n",
    "        print '<BUILT_IN>'\n",
    "    else:\n",
    "        module = __import__(module)\n",
    "        print module.__file__   #返回模块路径\n",
    "dump('os')\n",
    "dump('sys')\n",
    "dump('string')"
   ]
  },
  {
   "cell_type": "code",
   "execution_count": 3,
   "metadata": {
    "collapsed": false
   },
   "outputs": [
    {
     "data": {
      "text/plain": [
       "1"
      ]
     },
     "execution_count": 3,
     "metadata": {},
     "output_type": "execute_result"
    }
   ],
   "source": [
    "def test(n):\n",
    "    j = 0\n",
    "    for i in range(n):\n",
    "        j = j + i\n",
    "    return j\n",
    "def profiler(frame, event, arg):\n",
    "    print event, frame.f_code.co_name, frame.f_lineno, '-->', arg\n",
    "#sys.setprofile(profiler)\n",
    "sys.setprofile(None)\n",
    "test(2)"
   ]
  },
  {
   "cell_type": "markdown",
   "metadata": {},
   "source": [
    "**setprofiler()** 函数允许你配置一个分析函数(profiling function). 这个函数会在每次调用某个函数或方法时被调用(明确或隐含的), 或是遇到异常的时候被调用,参数为None时禁止调用分析函数    \n",
    "基于该函数, profile 模块提供了一个完整的分析器框架"
   ]
  },
  {
   "cell_type": "markdown",
   "metadata": {},
   "source": [
    "**settrace()** 函数与setprofiler()类似, 但是 trace 函数会在解释器每执行到新的一行时被调用"
   ]
  },
  {
   "cell_type": "code",
   "execution_count": 4,
   "metadata": {
    "collapsed": false
   },
   "outputs": [
    {
     "data": {
      "text/plain": [
       "1"
      ]
     },
     "execution_count": 4,
     "metadata": {},
     "output_type": "execute_result"
    }
   ],
   "source": [
    "def tracer(frame, event, arg):\n",
    "     print event, frame.f_code.co_name, frame.f_lineno, '-->', arg\n",
    "     return tracer\n",
    "#sys.settrace(tracer)\n",
    "sys.settrace(None)\n",
    "test(2)"
   ]
  },
  {
   "cell_type": "code",
   "execution_count": 5,
   "metadata": {
    "collapsed": true
   },
   "outputs": [],
   "source": [
    "#  上两步建议在python文件中执行，nb显示"
   ]
  },
  {
   "cell_type": "code",
   "execution_count": 6,
   "metadata": {
    "collapsed": false
   },
   "outputs": [
    {
     "name": "stdout",
     "output_type": "stream",
     "text": [
      "exit\n",
      "wait, exatly some thing left\n"
     ]
    }
   ],
   "source": [
    "import sys\n",
    "\n",
    "print 'exit'\n",
    "try:\n",
    "    \n",
    "    sys.exit(1)\n",
    "except SystemExit:\n",
    "    pass\n",
    "\n",
    "print 'wait, exatly some thing left'"
   ]
  },
  {
   "cell_type": "markdown",
   "metadata": {},
   "source": [
    "sys.exit 并不是立即退出. 而是引发一个 SystemExit 异常. 这意味着你可以在主程序中捕获对 sys.exit 的调用"
   ]
  },
  {
   "cell_type": "markdown",
   "metadata": {},
   "source": [
    "如果准备在退出前自己清理一些东西(比如删除临时文件), 你可以配置一个 \"退出处理函数\"(exit handler), 它将在程序退出的时候自动被调用"
   ]
  },
  {
   "cell_type": "code",
   "execution_count": 7,
   "metadata": {
    "collapsed": false
   },
   "outputs": [
    {
     "name": "stdout",
     "output_type": "stream",
     "text": [
      "1 , exit correctly\n",
      "wait, exatly some thing left\n"
     ]
    }
   ],
   "source": [
    "import sys\n",
    "\n",
    "def exitfunc():\n",
    "    print \"hello,then get a word(wen you exit):\"\n",
    "\n",
    "sys.exitfunc = exitfunc\n",
    "try:\n",
    "    sys.exit(1)\n",
    "except SystemExit,e:\n",
    "    print e,', exit correctly'\n",
    "print 'wait, exatly some thing left'"
   ]
  },
  {
   "cell_type": "markdown",
   "metadata": {},
   "source": [
    "虽然这里没有打印 exitfunc 中的内容，但我重新创建了个py文件并用python运行，exitfunc函数确实被调用了。ps在pycharm中结果和书中一致"
   ]
  },
  {
   "cell_type": "markdown",
   "metadata": {},
   "source": [
    "### PS.这个模块还有很多功能我还没能学习，暂且放下，待需要时再来深入"
   ]
  }
 ],
 "metadata": {
  "kernelspec": {
   "display_name": "Python 2",
   "language": "python",
   "name": "python2"
  },
  "language_info": {
   "codemirror_mode": {
    "name": "ipython",
    "version": 2
   },
   "file_extension": ".py",
   "mimetype": "text/x-python",
   "name": "python",
   "nbconvert_exporter": "python",
   "pygments_lexer": "ipython2",
   "version": "2.7.13"
  }
 },
 "nbformat": 4,
 "nbformat_minor": 2
}
