{
 "cells": [
  {
   "cell_type": "markdown",
   "metadata": {},
   "source": [
    "# os 模块的学习"
   ]
  },
  {
   "cell_type": "code",
   "execution_count": 1,
   "metadata": {
    "collapsed": true
   },
   "outputs": [],
   "source": [
    "import os"
   ]
  },
  {
   "cell_type": "markdown",
   "metadata": {},
   "source": [
    "### **os.stat** \n",
    " 可以用来获取一个存在文件的信息, 它 *返回一个类元组对象* (stat_result 对象, 包含 10 个元素),依次是  \n",
    " st_mode (权限模式),  \n",
    " st_ino (inode number),          \n",
    " st_dev (device),     \n",
    " st_nlink (number of hardlinks),  \n",
    " st_uid (所有者用户 ID),  \n",
    " st_gid (所有者所在组 ID ),  \n",
    " st_size (文件大小, 字节),   \n",
    " st_atime (最近一次访问时间),   \n",
    " st_mtime (最近修改时间),  \n",
    " st_ctime (平台相关; Unix 下的最近一次元数据/metadata 修改时间, 或者Windows 下的创建时间)  \n",
    " 以上项目也可作为属性访问\n"
   ]
  },
  {
   "cell_type": "code",
   "execution_count": 2,
   "metadata": {
    "collapsed": false
   },
   "outputs": [
    {
     "data": {
      "text/plain": [
       "nt.stat_result(st_mode=33206, st_ino=0L, st_dev=0L, st_nlink=0, st_uid=0, st_gid=0, st_size=0L, st_atime=1491232854L, st_mtime=1491232957L, st_ctime=1491232854L)"
      ]
     },
     "execution_count": 2,
     "metadata": {},
     "output_type": "execute_result"
    }
   ],
   "source": [
    "re_stat = os.stat('abc.txt')\n",
    "re_stat"
   ]
  },
  {
   "cell_type": "code",
   "execution_count": 3,
   "metadata": {
    "collapsed": false
   },
   "outputs": [
    {
     "name": "stdout",
     "output_type": "stream",
     "text": [
      "Mon Apr 03 23:20:54 2017\n"
     ]
    }
   ],
   "source": [
    "import time\n",
    "print time.ctime(re_stat[9])"
   ]
  },
  {
   "cell_type": "markdown",
   "metadata": {},
   "source": [
    "  可以使用 chmod 和 utime 函数修改文件的权限模式和时间属性  "
   ]
  },
  {
   "cell_type": "markdown",
   "metadata": {},
   "source": [
    "### 处理进程  \n",
    "#### system 函数在当前进程下执行一个新命令, 并等待它完成  "
   ]
  },
  {
   "cell_type": "code",
   "execution_count": 4,
   "metadata": {
    "collapsed": false
   },
   "outputs": [
    {
     "data": {
      "text/plain": [
       "0"
      ]
     },
     "execution_count": 4,
     "metadata": {},
     "output_type": "execute_result"
    }
   ],
   "source": [
    "if os.name == 'nt':\n",
    "    command = 'dir'\n",
    "else : \n",
    "    command ='ls -l'\n",
    "os.system(command)"
   ]
  },
  {
   "cell_type": "markdown",
   "metadata": {},
   "source": [
    "命令通过操作系统的标准 shell 执行, 并返回 shell 的退出状态. 需要注意的是在 Windows 95/98 下, shell 通常是 command.com , 它的推出状态总是 0"
   ]
  },
  {
   "cell_type": "markdown",
   "metadata": {},
   "source": [
    "  **exec** 函数会使用新进程替换当前进程(或者说是\"转到进程\"),在下面例子中字符串 \"goodbye\" 永远不会被打印，如下："
   ]
  },
  {
   "cell_type": "markdown",
   "metadata": {},
   "source": [
    "import os  \n",
    "program = \"python\"    \n",
    "arguments = [\"C:\\Users\\Giannis_A\\compare.py\"]  \n",
    "\n",
    "print os.execvp(program,(program,) + tuple(arguments))  \n",
    "print 'goodbye'  \n",
    "### 这段函数始终没有得出想要的结果，查了很久的资料仍然 '没有结果'，暂且先留着吧"
   ]
  },
  {
   "cell_type": "markdown",
   "metadata": {},
   "source": [
    "Python 提供了很多表现不同的 exec 函数.上例使用的是 execvp 函数, 它会从标准路径搜索执行程序, 把第二个参数(元组)作为单独的参数传递给程序, 并使用当前的环境变量来运行程序"
   ]
  },
  {
   "cell_type": "markdown",
   "metadata": {},
   "source": [
    "#### 使用os模块调用其他程序"
   ]
  },
  {
   "cell_type": "code",
   "execution_count": 5,
   "metadata": {
    "collapsed": true
   },
   "outputs": [],
   "source": [
    "import os\n",
    "import string"
   ]
  },
  {
   "cell_type": "code",
   "execution_count": 6,
   "metadata": {
    "collapsed": false
   },
   "outputs": [
    {
     "name": "stdout",
     "output_type": "stream",
     "text": [
      "good_bye\n"
     ]
    }
   ],
   "source": [
    "def run(program,*args):\n",
    "    # 找到可以执行的程序\n",
    "    for path in string.split(os.environ[\"PATH\"], os.pathsep):  \n",
    "        #os.environ 系统环境，返回的是一个字典，\"PATH\"返回环境变量的路径\n",
    "        #os.pathsep 不同系统路径路径之间分隔符，win是；(冒号)\n",
    "        files = os.path.join(path, program) + \".exe\"  #自动添加系统路径符，\n",
    "        try :\n",
    "            return os.spawnv(os.P_NOWAIT, files, (files,) + args)   #file为运行程序即python.exe路径\n",
    "        except os.error:\n",
    "            pass\n",
    "        #print file\n",
    "    raise os.error, \"can't find excutable!\"    \n",
    "run(\"python\",\"C:\\Users\\Giannis_A\\compare.py\")   #因为程序路径和文件路径不一致，必须特别指出\n",
    "#结果在nb后台服务器上可以看到\n",
    "print 'good_bye'"
   ]
  },
  {
   "cell_type": "markdown",
   "metadata": {},
   "source": [
    "实际结果  \n",
    "hello, world!  #此行结果在nb后台服务器上可以看到，在pycharm上运行也能打印这个结果   \n",
    "good_bye"
   ]
  },
  {
   "cell_type": "markdown",
   "metadata": {},
   "source": [
    "** os.spawn* **(model,path,...)   \n",
    "**功能**：在新的进程里执行程序路径  \n",
    "spawn 不会沿着路径搜索可执行文件, 你必须自己处理好这些  \n",
    "spawn 函数还可用于在后台运行一个程序. 上例给 run 函数添加了一个可选的 mode 参数; 当设置为 **os.P_NOWAIT** 时, 这个脚本不会等待子程序结束, 默认值 **os.P_WAIT** 时 spawn 会等待子进程结束，其他参数参见 os.spawn 详细文档<https://docs.python.org/2/library/os.html>"
   ]
  },
  {
   "cell_type": "markdown",
   "metadata": {},
   "source": [
    "### 上面的raise os.error 为什么和for语句对齐结果之后还不出现error？      没明白！！"
   ]
  },
  {
   "cell_type": "markdown",
   "metadata": {},
   "source": [
    "#### 使用os模块在后台执行程序"
   ]
  },
  {
   "cell_type": "code",
   "execution_count": 9,
   "metadata": {
    "collapsed": false
   },
   "outputs": [
    {
     "name": "stdout",
     "output_type": "stream",
     "text": [
      "good_bye\n"
     ]
    }
   ],
   "source": [
    "import os\n",
    "import sys\n",
    "import string\n",
    "def run(program,*args,**kw):\n",
    "    # 找到可以执行的程序\n",
    "    mode = kw.get(\"mode\",os.P_WAIT)   \n",
    "    #  D.get(k[,d]) -> 返回D[k] if k in D, else 返回d.  d defaults to None\n",
    "    for path in string.split(os.environ[\"PATH\"], os.pathsep):\n",
    "        files = os.path.join(path, program) + \".exe\"\n",
    "        try :\n",
    "            return os.spawnv(mode, files, (files,) + args)\n",
    "        except os.error:\n",
    "            pass\n",
    "        #print file\n",
    "    raise os.error, \"can't find excutable!\"\n",
    "run(\"python\",\"C:\\Users\\Giannis_A\\compare_1.py\",mode = os.P_NOWAIT)\n",
    "print 'good_bye'"
   ]
  },
  {
   "cell_type": "markdown",
   "metadata": {},
   "source": [
    "#### 注意脚本的路径，和被脚本运行的文件的路径！！"
   ]
  }
 ],
 "metadata": {
  "kernelspec": {
   "display_name": "Python 2",
   "language": "python",
   "name": "python2"
  },
  "language_info": {
   "codemirror_mode": {
    "name": "ipython",
    "version": 2
   },
   "file_extension": ".py",
   "mimetype": "text/x-python",
   "name": "python",
   "nbconvert_exporter": "python",
   "pygments_lexer": "ipython2",
   "version": "2.7.13"
  }
 },
 "nbformat": 4,
 "nbformat_minor": 2
}
